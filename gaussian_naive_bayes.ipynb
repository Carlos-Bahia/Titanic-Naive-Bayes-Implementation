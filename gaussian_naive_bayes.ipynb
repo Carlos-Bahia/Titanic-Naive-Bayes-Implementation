{
 "cells": [
  {
   "cell_type": "markdown",
   "id": "4c7a0b32",
   "metadata": {},
   "source": [
    "### **Imports**"
   ]
  },
  {
   "cell_type": "code",
   "execution_count": 1,
   "id": "e64e43bc",
   "metadata": {},
   "outputs": [],
   "source": [
    "import pandas as pd\n",
    "from sklearn.model_selection import train_test_split\n",
    "from sklearn.naive_bayes import GaussianNB\n",
    "from sklearn.metrics import accuracy_score, confusion_matrix\n",
    "import matplotlib.pyplot as plt\n",
    "import seaborn as sns"
   ]
  },
  {
   "cell_type": "markdown",
   "id": "89eb86b0",
   "metadata": {},
   "source": [
    "### **Params**"
   ]
  },
  {
   "cell_type": "code",
   "execution_count": 2,
   "id": "eaa3547c",
   "metadata": {},
   "outputs": [],
   "source": [
    "file_path = \"original_dataset/Titanic-Dataset.csv\""
   ]
  },
  {
   "cell_type": "markdown",
   "id": "970641ff",
   "metadata": {},
   "source": [
    "### **Data Processing**"
   ]
  },
  {
   "cell_type": "code",
   "execution_count": 3,
   "id": "960209e1",
   "metadata": {},
   "outputs": [],
   "source": [
    "dataset = pd.read_csv(file_path)\n",
    "\n",
    "# Rename columns\n",
    "dataset.columns = [\"id\", \"survived\", \"class\", \"name\", \"sex\", \"age\", \"numSib\", \"numPar\", \"ticketId\", \"ticketTax\", \"cabinId\", \"embarkationPort\"]\n",
    "\n",
    "# Drop columns that won't be used\n",
    "dataset.drop(columns=[\"id\", \"name\", \"ticketId\", \"cabinId\"], inplace=True)\n",
    "\n",
    "# Handle missing values\n",
    "for col in dataset.columns:\n",
    "    mode = dataset[col].mode()[0]\n",
    "    dataset[col] = dataset[col].fillna(mode)\n",
    "\n",
    "# Preparing data for Gaussian Naive Bayes\n",
    "dataset = pd.get_dummies(dataset, columns=[\"sex\", \"embarkationPort\"], drop_first=True)"
   ]
  },
  {
   "cell_type": "code",
   "execution_count": 4,
   "id": "4e6cb021",
   "metadata": {},
   "outputs": [],
   "source": [
    "# Preparing data for training and testing\n",
    "features = dataset.drop(columns=[\"survived\"])\n",
    "y_true = dataset[\"survived\"]\n",
    "\n",
    "features_train, features_test, y_train, y_test = train_test_split(\n",
    "    features, y_true, test_size=0.2, shuffle=True, random_state=42\n",
    ")"
   ]
  },
  {
   "cell_type": "markdown",
   "id": "5f08c66f",
   "metadata": {},
   "source": [
    "### **Naive Bayes**"
   ]
  },
  {
   "cell_type": "code",
   "execution_count": 5,
   "id": "f267f238",
   "metadata": {},
   "outputs": [
    {
     "name": "stdout",
     "output_type": "stream",
     "text": [
      "Acurácia: 77.09 %\n"
     ]
    }
   ],
   "source": [
    "model = GaussianNB()\n",
    "model.fit(features_train, y_train)\n",
    "\n",
    "y_pred = model.predict(features_test)\n",
    "\n",
    "acc = accuracy_score(y_test, y_pred) * 100\n",
    "cm = confusion_matrix(y_test, y_pred)\n",
    "\n",
    "# Evaluate the model\n",
    "print(\"Acurácia:\", round(acc, 2), \"%\")"
   ]
  },
  {
   "cell_type": "code",
   "execution_count": 6,
   "id": "effed436",
   "metadata": {},
   "outputs": [
    {
     "data": {
      "image/png": "[encoded data removed]",
      "text/plain": [
       "<Figure size 600x400 with 2 Axes>"
      ]
     },
     "metadata": {},
     "output_type": "display_data"
    }
   ],
   "source": [
    "plt.figure(figsize=(6,4))\n",
    "sns.heatmap(cm, annot=True, fmt=\"d\", cmap=\"Blues\", xticklabels=model.classes_, yticklabels=model.classes_)\n",
    "plt.xlabel(\"Previsto\")\n",
    "plt.ylabel(\"Real\")\n",
    "plt.title(\"Matriz de Confusão - Gaussian Naive Bayes\")\n",
    "plt.show()"
   ]
  }
 ],
 "metadata": {
  "kernelspec": {
   "display_name": "base",
   "language": "python",
   "name": "python3"
  },
  "language_info": {
   "codemirror_mode": {
    "name": "ipython",
    "version": 3
   },
   "file_extension": ".py",
   "mimetype": "text/x-python",
   "name": "python",
   "nbconvert_exporter": "python",
   "pygments_lexer": "ipython3",
   "version": "3.13.7"
  }
 },
 "nbformat": 4,
 "nbformat_minor": 5
}
